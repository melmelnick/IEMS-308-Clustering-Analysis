{
 "cells": [
  {
   "cell_type": "markdown",
   "metadata": {},
   "source": [
    "# IEMS 308 Homework 1 - Melissa Melnick"
   ]
  },
  {
   "cell_type": "code",
   "execution_count": 1,
   "metadata": {},
   "outputs": [],
   "source": [
    "import pandas as pd\n",
    "import numpy as np\n",
    "import matplotlib.pyplot as plt\n",
    "from sklearn.cluster import KMeans \n",
    "from sklearn.preprocessing import OneHotEncoder\n",
    "from sklearn.preprocessing import OneHotEncoder\n",
    "from sklearn import preprocessing"
   ]
  },
  {
   "cell_type": "code",
   "execution_count": 2,
   "metadata": {
    "scrolled": false
   },
   "outputs": [
    {
     "name": "stderr",
     "output_type": "stream",
     "text": [
      "/opt/anaconda3/lib/python3.8/site-packages/IPython/core/interactiveshell.py:3071: DtypeWarning: Columns (10) have mixed types.Specify dtype option on import or set low_memory=False.\n",
      "  has_raised = await self.run_ast_nodes(code_ast.body, cell_name,\n"
     ]
    }
   ],
   "source": [
    "#read in file\n",
    "file = pd.read_csv('../Desktop/Medicare_Provider_Util_Payment_PUF_CY2018/medicare.txt', sep = '\\t')\n"
   ]
  },
  {
   "cell_type": "code",
   "execution_count": 3,
   "metadata": {},
   "outputs": [],
   "source": [
    "#slim down originial data set to desired attributes\n",
    "mo_file = file[file['nppes_provider_state'] == 'MO']\n",
    "spec_mo_data = mo_file[['nppes_provider_zip', 'bene_unique_cnt', \n",
    "                      'average_submitted_chrg_amt', 'average_Medicare_payment_amt']]"
   ]
  },
  {
   "cell_type": "code",
   "execution_count": 4,
   "metadata": {
    "scrolled": false
   },
   "outputs": [
    {
     "name": "stderr",
     "output_type": "stream",
     "text": [
      "/opt/anaconda3/lib/python3.8/site-packages/pandas/core/indexing.py:845: SettingWithCopyWarning: \n",
      "A value is trying to be set on a copy of a slice from a DataFrame.\n",
      "Try using .loc[row_indexer,col_indexer] = value instead\n",
      "\n",
      "See the caveats in the documentation: https://pandas.pydata.org/pandas-docs/stable/user_guide/indexing.html#returning-a-view-versus-a-copy\n",
      "  self.obj[key] = _infer_fill_value(value)\n",
      "/opt/anaconda3/lib/python3.8/site-packages/pandas/core/indexing.py:966: SettingWithCopyWarning: \n",
      "A value is trying to be set on a copy of a slice from a DataFrame.\n",
      "Try using .loc[row_indexer,col_indexer] = value instead\n",
      "\n",
      "See the caveats in the documentation: https://pandas.pydata.org/pandas-docs/stable/user_guide/indexing.html#returning-a-view-versus-a-copy\n",
      "  self.obj[item] = s\n",
      "/opt/anaconda3/lib/python3.8/site-packages/pandas/core/generic.py:6746: SettingWithCopyWarning: \n",
      "A value is trying to be set on a copy of a slice from a DataFrame\n",
      "\n",
      "See the caveats in the documentation: https://pandas.pydata.org/pandas-docs/stable/user_guide/indexing.html#returning-a-view-versus-a-copy\n",
      "  self._update_inplace(new_data)\n"
     ]
    }
   ],
   "source": [
    "#create new column for first zones in Missouri based on first 3 digits of Zip Code\n",
    "zone_dict= {'631':'STL METRO', '630':'STL METRO', '633':'STL METRO', '635':'NORTHEAST', \n",
    "           '634':'NORTHEAST', '652':'NORTHEAST', '650':'NORTHEAST', '651':'NORTHEAST',\n",
    "           '636': 'SOUTHEAST', '637': 'SOUTHEAST', '638': 'SOUTHEAST', '639': 'SOUTHEAST', \n",
    "            '655': 'SOUTHEAST', '654': 'SOUTHEAST', '641': 'KC METRO', '640': 'KC METRO',\n",
    "           '653': 'SOUTHWEST', '647': 'SOUTHWEST', '657': 'SOUTHWEST', '648': 'SOUTHWEST',\n",
    "           '656': 'SOUTHWEST', '658': 'SOUTHWEST', '644': 'NORTHWEST', '645': 'NORTHWEST', \n",
    "            '646': 'NORTHWEST'}\n",
    "\n",
    "spec_mo_data.loc[:, 'zone'] = spec_mo_data['nppes_provider_zip'].astype(str).str[0:3]\n",
    "spec_mo_data.loc[:, 'zone'].replace(zone_dict, inplace = True)"
   ]
  },
  {
   "cell_type": "code",
   "execution_count": 5,
   "metadata": {},
   "outputs": [],
   "source": [
    "#delete original zip code column\n",
    "del spec_mo_data['nppes_provider_zip']"
   ]
  },
  {
   "cell_type": "code",
   "execution_count": 6,
   "metadata": {},
   "outputs": [],
   "source": [
    "#delete incorrect zips\n",
    "spec_mo_data = spec_mo_data[spec_mo_data.loc[:,'zone'].isin(zone_dict.values())]"
   ]
  },
  {
   "cell_type": "code",
   "execution_count": 7,
   "metadata": {},
   "outputs": [],
   "source": [
    "#turn zone into dummy variables and add to dataset\n",
    "spec_mo_data = pd.concat([spec_mo_data,pd.get_dummies(spec_mo_data['zone'],prefix='zone')],axis=1)"
   ]
  },
  {
   "cell_type": "code",
   "execution_count": 8,
   "metadata": {},
   "outputs": [],
   "source": [
    "#drop original zone column\n",
    "spec_mo_data.drop(['zone'],axis=1, inplace=True)"
   ]
  },
  {
   "cell_type": "code",
   "execution_count": 9,
   "metadata": {},
   "outputs": [],
   "source": [
    "#remove outliers\n",
    "cols_of_interest = ['bene_unique_cnt', 'average_submitted_chrg_amt', 'average_Medicare_payment_amt']\n",
    "for column in cols_of_interest:\n",
    "    try:\n",
    "        mean = spec_mo_data[column].mean()\n",
    "        stddev = spec_mo_data[column].std()\n",
    "        for value in spec_mo_data[column]: \n",
    "            if value > mean + 2*stddev:\n",
    "                spec_mo_data = spec_mo_data[spec_mo_data[column] != value]\n",
    "            elif value < mean - 2*stddev:\n",
    "                spec_mo_data = spec_mo_data[spec_mo_data[column] != value]  \n",
    "    except:\n",
    "        continue\n",
    "      "
   ]
  },
  {
   "cell_type": "code",
   "execution_count": 10,
   "metadata": {},
   "outputs": [],
   "source": [
    "#reset indices on pared down data set\n",
    "spec_mo_data.reset_index(drop=True, inplace=True)"
   ]
  },
  {
   "cell_type": "code",
   "execution_count": 11,
   "metadata": {},
   "outputs": [],
   "source": [
    "#scale the data\n",
    "scale_tech = preprocessing.StandardScaler().fit(spec_mo_data)\n",
    "mo_dat_scaled = scale_tech.transform(spec_mo_data)"
   ]
  },
  {
   "cell_type": "code",
   "execution_count": 12,
   "metadata": {},
   "outputs": [],
   "source": [
    "#create dataframe of scaled data\n",
    "mdc = pd.DataFrame(mo_dat_scaled)"
   ]
  },
  {
   "cell_type": "code",
   "execution_count": 13,
   "metadata": {
    "scrolled": true
   },
   "outputs": [
    {
     "data": {
      "text/plain": [
       "Text(0, 0.5, 'Performance')"
      ]
     },
     "execution_count": 13,
     "metadata": {},
     "output_type": "execute_result"
    },
    {
     "data": {
      "image/png": "[encoded data removed]",
      "text/plain": [
       "<Figure size 432x288 with 1 Axes>"
      ]
     },
     "metadata": {
      "needs_background": "light"
     },
     "output_type": "display_data"
    }
   ],
   "source": [
    "#find optimal number of clusters\n",
    "sse = []\n",
    "for clusters in range(2,20):\n",
    "    kmeans = KMeans(n_clusters=clusters, random_state=0).fit(mo_dat_scaled)\n",
    "    sse.append(kmeans.inertia_)\n",
    "    \n",
    "fig = plt.figure(figsize = (6,4))\n",
    "ax = fig.add_subplot(1,1,1)\n",
    "ax.plot(range(2,20),sse)\n",
    "ax.set_xlabel(\"Number of Clusters\")\n",
    "ax.set_ylabel(\"Performance\")"
   ]
  },
  {
   "cell_type": "code",
   "execution_count": 14,
   "metadata": {},
   "outputs": [],
   "source": [
    "#run kmeans\n",
    "kmeans = KMeans(n_clusters =6)\n",
    "kmeans = kmeans.fit(mo_dat_scaled)\n",
    "labels = kmeans.predict(mo_dat_scaled)\n",
    "centroids = kmeans.cluster_centers_"
   ]
  },
  {
   "cell_type": "code",
   "execution_count": 15,
   "metadata": {},
   "outputs": [
    {
     "data": {
      "text/plain": [
       "0         3\n",
       "1         3\n",
       "2         3\n",
       "3         0\n",
       "4         0\n",
       "         ..\n",
       "192911    2\n",
       "192912    2\n",
       "192913    2\n",
       "192914    2\n",
       "192915    2\n",
       "Length: 192916, dtype: int32"
      ]
     },
     "execution_count": 15,
     "metadata": {},
     "output_type": "execute_result"
    }
   ],
   "source": [
    "#turn the clusters into a series to be added to dataframe\n",
    "label_col = pd.Series(labels)\n",
    "label_col"
   ]
  },
  {
   "cell_type": "code",
   "execution_count": 17,
   "metadata": {},
   "outputs": [],
   "source": [
    "spec_mo_data = pd.concat([spec_mo_data,pd.DataFrame(label_col, columns=[\"Cluster\"])],axis=1)"
   ]
  },
  {
   "cell_type": "code",
   "execution_count": 18,
   "metadata": {
    "scrolled": true
   },
   "outputs": [
    {
     "data": {
      "text/plain": [
       "0    77641\n",
       "4    36026\n",
       "5    32518\n",
       "2    24446\n",
       "1    16860\n",
       "3     5425\n",
       "Name: Cluster, dtype: int64"
      ]
     },
     "execution_count": 18,
     "metadata": {},
     "output_type": "execute_result"
    }
   ],
   "source": [
    "spec_mo_data['Cluster'].value_counts()"
   ]
  },
  {
   "cell_type": "code",
   "execution_count": 19,
   "metadata": {},
   "outputs": [
    {
     "data": {
      "text/html": [
       "<div>\n",
       "<style scoped>\n",
       "    .dataframe tbody tr th:only-of-type {\n",
       "        vertical-align: middle;\n",
       "    }\n",
       "\n",
       "    .dataframe tbody tr th {\n",
       "        vertical-align: top;\n",
       "    }\n",
       "\n",
       "    .dataframe thead th {\n",
       "        text-align: right;\n",
       "    }\n",
       "</style>\n",
       "<table border=\"1\" class=\"dataframe\">\n",
       "  <thead>\n",
       "    <tr style=\"text-align: right;\">\n",
       "      <th></th>\n",
       "      <th>bene_unique_cnt</th>\n",
       "      <th>average_submitted_chrg_amt</th>\n",
       "      <th>average_Medicare_payment_amt</th>\n",
       "      <th>zone_KC METRO</th>\n",
       "      <th>zone_NORTHEAST</th>\n",
       "      <th>zone_NORTHWEST</th>\n",
       "      <th>zone_SOUTHEAST</th>\n",
       "      <th>zone_SOUTHWEST</th>\n",
       "      <th>zone_STL METRO</th>\n",
       "      <th>Cluster</th>\n",
       "    </tr>\n",
       "  </thead>\n",
       "  <tbody>\n",
       "    <tr>\n",
       "      <th>0</th>\n",
       "      <td>291.0</td>\n",
       "      <td>69.742268</td>\n",
       "      <td>52.208935</td>\n",
       "      <td>0</td>\n",
       "      <td>0</td>\n",
       "      <td>1</td>\n",
       "      <td>0</td>\n",
       "      <td>0</td>\n",
       "      <td>0</td>\n",
       "      <td>3</td>\n",
       "    </tr>\n",
       "    <tr>\n",
       "      <th>1</th>\n",
       "      <td>30.0</td>\n",
       "      <td>35.000000</td>\n",
       "      <td>18.650000</td>\n",
       "      <td>0</td>\n",
       "      <td>0</td>\n",
       "      <td>1</td>\n",
       "      <td>0</td>\n",
       "      <td>0</td>\n",
       "      <td>0</td>\n",
       "      <td>3</td>\n",
       "    </tr>\n",
       "    <tr>\n",
       "      <th>2</th>\n",
       "      <td>321.0</td>\n",
       "      <td>25.000000</td>\n",
       "      <td>18.520000</td>\n",
       "      <td>0</td>\n",
       "      <td>0</td>\n",
       "      <td>1</td>\n",
       "      <td>0</td>\n",
       "      <td>0</td>\n",
       "      <td>0</td>\n",
       "      <td>3</td>\n",
       "    </tr>\n",
       "    <tr>\n",
       "      <th>3</th>\n",
       "      <td>26.0</td>\n",
       "      <td>120.000000</td>\n",
       "      <td>48.601930</td>\n",
       "      <td>0</td>\n",
       "      <td>0</td>\n",
       "      <td>0</td>\n",
       "      <td>0</td>\n",
       "      <td>0</td>\n",
       "      <td>1</td>\n",
       "      <td>0</td>\n",
       "    </tr>\n",
       "    <tr>\n",
       "      <th>4</th>\n",
       "      <td>29.0</td>\n",
       "      <td>140.000000</td>\n",
       "      <td>75.194697</td>\n",
       "      <td>0</td>\n",
       "      <td>0</td>\n",
       "      <td>0</td>\n",
       "      <td>0</td>\n",
       "      <td>0</td>\n",
       "      <td>1</td>\n",
       "      <td>0</td>\n",
       "    </tr>\n",
       "    <tr>\n",
       "      <th>...</th>\n",
       "      <td>...</td>\n",
       "      <td>...</td>\n",
       "      <td>...</td>\n",
       "      <td>...</td>\n",
       "      <td>...</td>\n",
       "      <td>...</td>\n",
       "      <td>...</td>\n",
       "      <td>...</td>\n",
       "      <td>...</td>\n",
       "      <td>...</td>\n",
       "    </tr>\n",
       "    <tr>\n",
       "      <th>192911</th>\n",
       "      <td>16.0</td>\n",
       "      <td>75.000000</td>\n",
       "      <td>32.200000</td>\n",
       "      <td>0</td>\n",
       "      <td>1</td>\n",
       "      <td>0</td>\n",
       "      <td>0</td>\n",
       "      <td>0</td>\n",
       "      <td>0</td>\n",
       "      <td>2</td>\n",
       "    </tr>\n",
       "    <tr>\n",
       "      <th>192912</th>\n",
       "      <td>12.0</td>\n",
       "      <td>106.000000</td>\n",
       "      <td>54.180000</td>\n",
       "      <td>0</td>\n",
       "      <td>1</td>\n",
       "      <td>0</td>\n",
       "      <td>0</td>\n",
       "      <td>0</td>\n",
       "      <td>0</td>\n",
       "      <td>2</td>\n",
       "    </tr>\n",
       "    <tr>\n",
       "      <th>192913</th>\n",
       "      <td>216.0</td>\n",
       "      <td>160.422311</td>\n",
       "      <td>76.992151</td>\n",
       "      <td>0</td>\n",
       "      <td>1</td>\n",
       "      <td>0</td>\n",
       "      <td>0</td>\n",
       "      <td>0</td>\n",
       "      <td>0</td>\n",
       "      <td>2</td>\n",
       "    </tr>\n",
       "    <tr>\n",
       "      <th>192914</th>\n",
       "      <td>112.0</td>\n",
       "      <td>225.897638</td>\n",
       "      <td>103.588268</td>\n",
       "      <td>0</td>\n",
       "      <td>1</td>\n",
       "      <td>0</td>\n",
       "      <td>0</td>\n",
       "      <td>0</td>\n",
       "      <td>0</td>\n",
       "      <td>2</td>\n",
       "    </tr>\n",
       "    <tr>\n",
       "      <th>192915</th>\n",
       "      <td>136.0</td>\n",
       "      <td>167.711268</td>\n",
       "      <td>82.612465</td>\n",
       "      <td>0</td>\n",
       "      <td>1</td>\n",
       "      <td>0</td>\n",
       "      <td>0</td>\n",
       "      <td>0</td>\n",
       "      <td>0</td>\n",
       "      <td>2</td>\n",
       "    </tr>\n",
       "  </tbody>\n",
       "</table>\n",
       "<p>192916 rows × 10 columns</p>\n",
       "</div>"
      ],
      "text/plain": [
       "        bene_unique_cnt  average_submitted_chrg_amt  \\\n",
       "0                 291.0                   69.742268   \n",
       "1                  30.0                   35.000000   \n",
       "2                 321.0                   25.000000   \n",
       "3                  26.0                  120.000000   \n",
       "4                  29.0                  140.000000   \n",
       "...                 ...                         ...   \n",
       "192911             16.0                   75.000000   \n",
       "192912             12.0                  106.000000   \n",
       "192913            216.0                  160.422311   \n",
       "192914            112.0                  225.897638   \n",
       "192915            136.0                  167.711268   \n",
       "\n",
       "        average_Medicare_payment_amt  zone_KC METRO  zone_NORTHEAST  \\\n",
       "0                          52.208935              0               0   \n",
       "1                          18.650000              0               0   \n",
       "2                          18.520000              0               0   \n",
       "3                          48.601930              0               0   \n",
       "4                          75.194697              0               0   \n",
       "...                              ...            ...             ...   \n",
       "192911                     32.200000              0               1   \n",
       "192912                     54.180000              0               1   \n",
       "192913                     76.992151              0               1   \n",
       "192914                    103.588268              0               1   \n",
       "192915                     82.612465              0               1   \n",
       "\n",
       "        zone_NORTHWEST  zone_SOUTHEAST  zone_SOUTHWEST  zone_STL METRO  \\\n",
       "0                    1               0               0               0   \n",
       "1                    1               0               0               0   \n",
       "2                    1               0               0               0   \n",
       "3                    0               0               0               1   \n",
       "4                    0               0               0               1   \n",
       "...                ...             ...             ...             ...   \n",
       "192911               0               0               0               0   \n",
       "192912               0               0               0               0   \n",
       "192913               0               0               0               0   \n",
       "192914               0               0               0               0   \n",
       "192915               0               0               0               0   \n",
       "\n",
       "        Cluster  \n",
       "0             3  \n",
       "1             3  \n",
       "2             3  \n",
       "3             0  \n",
       "4             0  \n",
       "...         ...  \n",
       "192911        2  \n",
       "192912        2  \n",
       "192913        2  \n",
       "192914        2  \n",
       "192915        2  \n",
       "\n",
       "[192916 rows x 10 columns]"
      ]
     },
     "execution_count": 19,
     "metadata": {},
     "output_type": "execute_result"
    }
   ],
   "source": [
    "spec_mo_data"
   ]
  },
  {
   "cell_type": "code",
   "execution_count": 20,
   "metadata": {},
   "outputs": [
    {
     "data": {
      "text/html": [
       "<div>\n",
       "<style scoped>\n",
       "    .dataframe tbody tr th:only-of-type {\n",
       "        vertical-align: middle;\n",
       "    }\n",
       "\n",
       "    .dataframe tbody tr th {\n",
       "        vertical-align: top;\n",
       "    }\n",
       "\n",
       "    .dataframe thead th {\n",
       "        text-align: right;\n",
       "    }\n",
       "</style>\n",
       "<table border=\"1\" class=\"dataframe\">\n",
       "  <thead>\n",
       "    <tr style=\"text-align: right;\">\n",
       "      <th></th>\n",
       "      <th>bene_unique_cnt</th>\n",
       "      <th>average_submitted_chrg_amt</th>\n",
       "      <th>average_Medicare_payment_amt</th>\n",
       "      <th>zone_KC METRO</th>\n",
       "      <th>zone_NORTHEAST</th>\n",
       "      <th>zone_NORTHWEST</th>\n",
       "      <th>zone_SOUTHEAST</th>\n",
       "      <th>zone_SOUTHWEST</th>\n",
       "      <th>zone_STL METRO</th>\n",
       "    </tr>\n",
       "    <tr>\n",
       "      <th>Cluster</th>\n",
       "      <th></th>\n",
       "      <th></th>\n",
       "      <th></th>\n",
       "      <th></th>\n",
       "      <th></th>\n",
       "      <th></th>\n",
       "      <th></th>\n",
       "      <th></th>\n",
       "      <th></th>\n",
       "    </tr>\n",
       "  </thead>\n",
       "  <tbody>\n",
       "    <tr>\n",
       "      <th>0</th>\n",
       "      <td>63.101544</td>\n",
       "      <td>237.157214</td>\n",
       "      <td>56.195835</td>\n",
       "      <td>0</td>\n",
       "      <td>0</td>\n",
       "      <td>0</td>\n",
       "      <td>0</td>\n",
       "      <td>0</td>\n",
       "      <td>1</td>\n",
       "    </tr>\n",
       "    <tr>\n",
       "      <th>1</th>\n",
       "      <td>74.391340</td>\n",
       "      <td>237.524044</td>\n",
       "      <td>47.287634</td>\n",
       "      <td>0</td>\n",
       "      <td>0</td>\n",
       "      <td>0</td>\n",
       "      <td>1</td>\n",
       "      <td>0</td>\n",
       "      <td>0</td>\n",
       "    </tr>\n",
       "    <tr>\n",
       "      <th>2</th>\n",
       "      <td>67.882762</td>\n",
       "      <td>216.395654</td>\n",
       "      <td>49.634866</td>\n",
       "      <td>0</td>\n",
       "      <td>1</td>\n",
       "      <td>0</td>\n",
       "      <td>0</td>\n",
       "      <td>0</td>\n",
       "      <td>0</td>\n",
       "    </tr>\n",
       "    <tr>\n",
       "      <th>3</th>\n",
       "      <td>72.544516</td>\n",
       "      <td>209.294697</td>\n",
       "      <td>55.352187</td>\n",
       "      <td>0</td>\n",
       "      <td>0</td>\n",
       "      <td>1</td>\n",
       "      <td>0</td>\n",
       "      <td>0</td>\n",
       "      <td>0</td>\n",
       "    </tr>\n",
       "    <tr>\n",
       "      <th>4</th>\n",
       "      <td>65.893577</td>\n",
       "      <td>210.956379</td>\n",
       "      <td>55.724893</td>\n",
       "      <td>1</td>\n",
       "      <td>0</td>\n",
       "      <td>0</td>\n",
       "      <td>0</td>\n",
       "      <td>0</td>\n",
       "      <td>0</td>\n",
       "    </tr>\n",
       "    <tr>\n",
       "      <th>5</th>\n",
       "      <td>66.905252</td>\n",
       "      <td>199.032762</td>\n",
       "      <td>48.383723</td>\n",
       "      <td>0</td>\n",
       "      <td>0</td>\n",
       "      <td>0</td>\n",
       "      <td>0</td>\n",
       "      <td>1</td>\n",
       "      <td>0</td>\n",
       "    </tr>\n",
       "  </tbody>\n",
       "</table>\n",
       "</div>"
      ],
      "text/plain": [
       "         bene_unique_cnt  average_submitted_chrg_amt  \\\n",
       "Cluster                                                \n",
       "0              63.101544                  237.157214   \n",
       "1              74.391340                  237.524044   \n",
       "2              67.882762                  216.395654   \n",
       "3              72.544516                  209.294697   \n",
       "4              65.893577                  210.956379   \n",
       "5              66.905252                  199.032762   \n",
       "\n",
       "         average_Medicare_payment_amt  zone_KC METRO  zone_NORTHEAST  \\\n",
       "Cluster                                                                \n",
       "0                           56.195835              0               0   \n",
       "1                           47.287634              0               0   \n",
       "2                           49.634866              0               1   \n",
       "3                           55.352187              0               0   \n",
       "4                           55.724893              1               0   \n",
       "5                           48.383723              0               0   \n",
       "\n",
       "         zone_NORTHWEST  zone_SOUTHEAST  zone_SOUTHWEST  zone_STL METRO  \n",
       "Cluster                                                                  \n",
       "0                     0               0               0               1  \n",
       "1                     0               1               0               0  \n",
       "2                     0               0               0               0  \n",
       "3                     1               0               0               0  \n",
       "4                     0               0               0               0  \n",
       "5                     0               0               1               0  "
      ]
     },
     "execution_count": 20,
     "metadata": {},
     "output_type": "execute_result"
    }
   ],
   "source": [
    "#look at data\n",
    "mo_dat_pp = spec_mo_data.groupby([\"Cluster\"])\n",
    "\n",
    "mo_dat_pp_mean = mo_dat_pp.mean()\n",
    "mo_dat_pp_mean"
   ]
  },
  {
   "cell_type": "code",
   "execution_count": null,
   "metadata": {},
   "outputs": [],
   "source": []
  }
 ],
 "metadata": {
  "kernelspec": {
   "display_name": "Python 3",
   "language": "python",
   "name": "python3"
  },
  "language_info": {
   "codemirror_mode": {
    "name": "ipython",
    "version": 3
   },
   "file_extension": ".py",
   "mimetype": "text/x-python",
   "name": "python",
   "nbconvert_exporter": "python",
   "pygments_lexer": "ipython3",
   "version": "3.8.3"
  }
 },
 "nbformat": 4,
 "nbformat_minor": 4
}
