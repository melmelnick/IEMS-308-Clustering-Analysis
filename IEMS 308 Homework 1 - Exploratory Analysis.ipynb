{
 "cells": [
  {
   "cell_type": "markdown",
   "metadata": {},
   "source": [
    "Exploratory Work"
   ]
  },
  {
   "cell_type": "code",
   "execution_count": 1,
   "metadata": {},
   "outputs": [],
   "source": [
    "import pandas as pd\n",
    "import numpy as np\n",
    "import matplotlib.pyplot as plt\n",
    "from sklearn.cluster import KMeans \n",
    "from sklearn.preprocessing import OneHotEncoder\n",
    "from sklearn.preprocessing import OneHotEncoder\n",
    "from sklearn import preprocessing"
   ]
  },
  {
   "cell_type": "code",
   "execution_count": 2,
   "metadata": {},
   "outputs": [
    {
     "name": "stderr",
     "output_type": "stream",
     "text": [
      "/opt/anaconda3/lib/python3.8/site-packages/IPython/core/interactiveshell.py:3071: DtypeWarning: Columns (10) have mixed types.Specify dtype option on import or set low_memory=False.\n",
      "  has_raised = await self.run_ast_nodes(code_ast.body, cell_name,\n"
     ]
    }
   ],
   "source": [
    "file = pd.read_csv('../Desktop/Medicare_Provider_Util_Payment_PUF_CY2018/medicare.txt', sep = '\\t')\n",
    "\n"
   ]
  },
  {
   "cell_type": "code",
   "execution_count": 3,
   "metadata": {},
   "outputs": [],
   "source": [
    "mo_file = file[file['nppes_provider_state'] == 'MO']"
   ]
  },
  {
   "cell_type": "code",
   "execution_count": null,
   "metadata": {},
   "outputs": [
    {
     "data": {
      "text/plain": [
       "array([[<matplotlib.axes._subplots.AxesSubplot object at 0x13365eeb0>,\n",
       "        <matplotlib.axes._subplots.AxesSubplot object at 0x136f3a5b0>,\n",
       "        <matplotlib.axes._subplots.AxesSubplot object at 0x136f62a30>,\n",
       "        <matplotlib.axes._subplots.AxesSubplot object at 0x1336a7e80>,\n",
       "        <matplotlib.axes._subplots.AxesSubplot object at 0x136b60310>,\n",
       "        <matplotlib.axes._subplots.AxesSubplot object at 0x136faf400>,\n",
       "        <matplotlib.axes._subplots.AxesSubplot object at 0x136faf4f0>,\n",
       "        <matplotlib.axes._subplots.AxesSubplot object at 0x136fd9cd0>],\n",
       "       [<matplotlib.axes._subplots.AxesSubplot object at 0x137038b80>,\n",
       "        <matplotlib.axes._subplots.AxesSubplot object at 0x1370cb340>,\n",
       "        <matplotlib.axes._subplots.AxesSubplot object at 0x1370f3ac0>,\n",
       "        <matplotlib.axes._subplots.AxesSubplot object at 0x13716b280>,\n",
       "        <matplotlib.axes._subplots.AxesSubplot object at 0x137192a00>,\n",
       "        <matplotlib.axes._subplots.AxesSubplot object at 0x1371ca1c0>,\n",
       "        <matplotlib.axes._subplots.AxesSubplot object at 0x1371f3940>,\n",
       "        <matplotlib.axes._subplots.AxesSubplot object at 0x13721a160>],\n",
       "       [<matplotlib.axes._subplots.AxesSubplot object at 0x137253880>,\n",
       "        <matplotlib.axes._subplots.AxesSubplot object at 0x13727b0a0>,\n",
       "        <matplotlib.axes._subplots.AxesSubplot object at 0x1372b07c0>,\n",
       "        <matplotlib.axes._subplots.AxesSubplot object at 0x1372daf40>,\n",
       "        <matplotlib.axes._subplots.AxesSubplot object at 0x13730e700>,\n",
       "        <matplotlib.axes._subplots.AxesSubplot object at 0x137339e80>,\n",
       "        <matplotlib.axes._subplots.AxesSubplot object at 0x13766d640>,\n",
       "        <matplotlib.axes._subplots.AxesSubplot object at 0x137696dc0>],\n",
       "       [<matplotlib.axes._subplots.AxesSubplot object at 0x1376cc580>,\n",
       "        <matplotlib.axes._subplots.AxesSubplot object at 0x1376f6d00>,\n",
       "        <matplotlib.axes._subplots.AxesSubplot object at 0x13772e4c0>,\n",
       "        <matplotlib.axes._subplots.AxesSubplot object at 0x137755c40>,\n",
       "        <matplotlib.axes._subplots.AxesSubplot object at 0x13778a400>,\n",
       "        <matplotlib.axes._subplots.AxesSubplot object at 0x1377b4b80>,\n",
       "        <matplotlib.axes._subplots.AxesSubplot object at 0x1377e8340>,\n",
       "        <matplotlib.axes._subplots.AxesSubplot object at 0x137812ac0>],\n",
       "       [<matplotlib.axes._subplots.AxesSubplot object at 0x137889280>,\n",
       "        <matplotlib.axes._subplots.AxesSubplot object at 0x1378b1a00>,\n",
       "        <matplotlib.axes._subplots.AxesSubplot object at 0x1378e91c0>,\n",
       "        <matplotlib.axes._subplots.AxesSubplot object at 0x137910940>,\n",
       "        <matplotlib.axes._subplots.AxesSubplot object at 0x13793b160>,\n",
       "        <matplotlib.axes._subplots.AxesSubplot object at 0x137971880>,\n",
       "        <matplotlib.axes._subplots.AxesSubplot object at 0x133a438e0>,\n",
       "        <matplotlib.axes._subplots.AxesSubplot object at 0x136b3bdf0>],\n",
       "       [<matplotlib.axes._subplots.AxesSubplot object at 0x133658700>,\n",
       "        <matplotlib.axes._subplots.AxesSubplot object at 0x132bd02b0>,\n",
       "        <matplotlib.axes._subplots.AxesSubplot object at 0x132c7a160>,\n",
       "        <matplotlib.axes._subplots.AxesSubplot object at 0x133abbf70>,\n",
       "        <matplotlib.axes._subplots.AxesSubplot object at 0x137a336d0>,\n",
       "        <matplotlib.axes._subplots.AxesSubplot object at 0x137a60b20>,\n",
       "        <matplotlib.axes._subplots.AxesSubplot object at 0x137dccf70>,\n",
       "        <matplotlib.axes._subplots.AxesSubplot object at 0x137e04400>],\n",
       "       [<matplotlib.axes._subplots.AxesSubplot object at 0x137e30850>,\n",
       "        <matplotlib.axes._subplots.AxesSubplot object at 0x137e5eca0>,\n",
       "        <matplotlib.axes._subplots.AxesSubplot object at 0x137e97130>,\n",
       "        <matplotlib.axes._subplots.AxesSubplot object at 0x137ec4580>,\n",
       "        <matplotlib.axes._subplots.AxesSubplot object at 0x137eef9d0>,\n",
       "        <matplotlib.axes._subplots.AxesSubplot object at 0x137f1ee20>,\n",
       "        <matplotlib.axes._subplots.AxesSubplot object at 0x137f582b0>,\n",
       "        <matplotlib.axes._subplots.AxesSubplot object at 0x137f85700>],\n",
       "       [<matplotlib.axes._subplots.AxesSubplot object at 0x137fb0b50>,\n",
       "        <matplotlib.axes._subplots.AxesSubplot object at 0x13801efa0>,\n",
       "        <matplotlib.axes._subplots.AxesSubplot object at 0x138055430>,\n",
       "        <matplotlib.axes._subplots.AxesSubplot object at 0x138081880>,\n",
       "        <matplotlib.axes._subplots.AxesSubplot object at 0x1380adcd0>,\n",
       "        <matplotlib.axes._subplots.AxesSubplot object at 0x1380e8160>,\n",
       "        <matplotlib.axes._subplots.AxesSubplot object at 0x1381155b0>,\n",
       "        <matplotlib.axes._subplots.AxesSubplot object at 0x138142a00>]],\n",
       "      dtype=object)"
      ]
     },
     "execution_count": 13,
     "metadata": {},
     "output_type": "execute_result"
    }
   ],
   "source": [
    "pd.plotting.scatter_matrix(mo_file, alpha = .2, figsize = (30,30))"
   ]
  },
  {
   "cell_type": "code",
   "execution_count": 10,
   "metadata": {},
   "outputs": [
    {
     "data": {
      "text/plain": [
       "(array([8.2370e+04, 5.4799e+04, 3.6989e+04, 2.0251e+04, 7.0730e+03,\n",
       "        1.6490e+03, 2.8900e+02, 8.1000e+01, 4.1000e+01, 2.6000e+01]),\n",
       " array([1.04139269, 1.39061664, 1.7398406 , 2.08906456, 2.43828852,\n",
       "        2.78751248, 3.13673644, 3.48596039, 3.83518435, 4.18440831,\n",
       "        4.53363227]),\n",
       " <a list of 10 Patch objects>)"
      ]
     },
     "execution_count": 10,
     "metadata": {},
     "output_type": "execute_result"
    },
    {
     "data": {
      "image/png": "[encoded data removed]",
      "text/plain": [
       "<Figure size 432x324 with 1 Axes>"
      ]
     },
     "metadata": {
      "needs_background": "light"
     },
     "output_type": "display_data"
    }
   ],
   "source": [
    "fig = plt.figure( figsize = (6, 4.5))\n",
    "ax = fig.add_subplot(1, 1, 1)\n",
    "\n",
    "ax.hist(np.log10(mo_file['bene_unique_cnt']), color = 'steelblue', log = True)"
   ]
  },
  {
   "cell_type": "code",
   "execution_count": 11,
   "metadata": {},
   "outputs": [
    {
     "data": {
      "text/plain": [
       "<matplotlib.collections.PathCollection at 0x1335b8250>"
      ]
     },
     "execution_count": 11,
     "metadata": {},
     "output_type": "execute_result"
    },
    {
     "data": {
      "image/png": "[encoded data removed]",
      "text/plain": [
       "<Figure size 360x360 with 1 Axes>"
      ]
     },
     "metadata": {
      "needs_background": "light"
     },
     "output_type": "display_data"
    }
   ],
   "source": [
    "fig = plt.figure(figsize = (5,5))\n",
    "ax = fig.add_subplot(1, 1, 1)\n",
    "ax.scatter(mo_file['average_submitted_chrg_amt'], mo_file['average_Medicare_payment_amt'], color='orange')"
   ]
  },
  {
   "cell_type": "code",
   "execution_count": 12,
   "metadata": {},
   "outputs": [
    {
     "data": {
      "text/plain": [
       "<matplotlib.collections.PathCollection at 0x133622c40>"
      ]
     },
     "execution_count": 12,
     "metadata": {},
     "output_type": "execute_result"
    },
    {
     "data": {
      "image/png": "[encoded data removed]",
      "text/plain": [
       "<Figure size 360x360 with 1 Axes>"
      ]
     },
     "metadata": {
      "needs_background": "light"
     },
     "output_type": "display_data"
    }
   ],
   "source": [
    "fig = plt.figure(figsize = (5,5))\n",
    "ax = fig.add_subplot(1, 1, 1)\n",
    "ax.scatter(mo_file['average_submitted_chrg_amt'], mo_file['average_Medicare_payment_amt']/mo_file['average_submitted_chrg_amt'], color='orange')"
   ]
  },
  {
   "cell_type": "code",
   "execution_count": null,
   "metadata": {},
   "outputs": [],
   "source": []
  }
 ],
 "metadata": {
  "kernelspec": {
   "display_name": "Python 3",
   "language": "python",
   "name": "python3"
  },
  "language_info": {
   "codemirror_mode": {
    "name": "ipython",
    "version": 3
   },
   "file_extension": ".py",
   "mimetype": "text/x-python",
   "name": "python",
   "nbconvert_exporter": "python",
   "pygments_lexer": "ipython3",
   "version": "3.8.3"
  }
 },
 "nbformat": 4,
 "nbformat_minor": 4
}
